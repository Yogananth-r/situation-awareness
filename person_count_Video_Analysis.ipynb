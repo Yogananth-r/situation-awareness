{
  "nbformat": 4,
  "nbformat_minor": 0,
  "metadata": {
    "colab": {
      "provenance": [],
      "authorship_tag": "ABX9TyPMAzgtQAAZDLpYUNWe8xih"
    },
    "kernelspec": {
      "name": "python3",
      "display_name": "Python 3"
    },
    "language_info": {
      "name": "python"
    },
    "accelerator": "GPU",
    "gpuClass": "standard"
  },
  "cells": [
    {
      "cell_type": "code",
      "execution_count": null,
      "metadata": {
        "colab": {
          "base_uri": "https://localhost:8080/"
        },
        "id": "ePlTbR72EY1P",
        "outputId": "3e1cdf47-577e-404a-a22a-ed345e585314"
      },
      "outputs": [
        {
          "output_type": "stream",
          "name": "stdout",
          "text": [
            "Looking in indexes: https://pypi.org/simple, https://us-python.pkg.dev/colab-wheels/public/simple/\n",
            "Requirement already satisfied: opencv-python in /usr/local/lib/python3.9/dist-packages (4.7.0.72)\n",
            "Requirement already satisfied: numpy>=1.17.3 in /usr/local/lib/python3.9/dist-packages (from opencv-python) (1.22.4)\n",
            "Looking in indexes: https://pypi.org/simple, https://us-python.pkg.dev/colab-wheels/public/simple/\n",
            "Requirement already satisfied: imutils in /usr/local/lib/python3.9/dist-packages (0.5.4)\n",
            "Looking in indexes: https://pypi.org/simple, https://us-python.pkg.dev/colab-wheels/public/simple/\n",
            "Requirement already satisfied: numpy in /usr/local/lib/python3.9/dist-packages (1.22.4)\n"
          ]
        }
      ],
      "source": [
        "!pip install opencv-python\n",
        "!pip install imutils\n",
        "!pip install numpy"
      ]
    },
    {
      "cell_type": "code",
      "source": [
        "import cv2\n",
        "import imutils\n",
        "import numpy as np\n",
        "import argparse"
      ],
      "metadata": {
        "id": "W-IfzbfpEh-u"
      },
      "execution_count": null,
      "outputs": []
    },
    {
      "cell_type": "code",
      "source": [
        "HOGCV=cv2.HOGDescriptor()\n",
        "HOGCV.setSVMDetector(cv2.HOGDescriptor_getDefaultPeopleDetector())"
      ],
      "metadata": {
        "id": "upmHL-VWE94r"
      },
      "execution_count": null,
      "outputs": []
    },
    {
      "cell_type": "code",
      "source": [
        "def detect(frame):\n",
        "  bbox_coordinates, weights = HOGCV.detectMultiScale(frame,winStride=(4,4),padding=(8,8),scale=1.03)\n",
        "  person=1\n",
        "  for x,y,w,h in bbox_coordinates:\n",
        "    cv2.rectangle(frame,(x,y),(x+w,y+h),(0,255,0),2)\n",
        "    cv2.putText(frame,f'person{person}',(x,y),cv2.FONT_HERSHEY_SIMPLEX,0.5,(0,0,255),1)\n",
        "    person+=1\n",
        "  cv2.putText(frame,'Status: Detecting ',(40,40),cv2.FONT_HERSHEY_DUPLEX,0.8,(255,0,0),2)\n",
        "  cv2.putText(frame,f'Total Persons: {person-1}',(40,40),cv2.FONT_HERSHEY_DUPLEX,0.8,(255,0,0),2)\n",
        "  return frame"
      ],
      "metadata": {
        "id": "idXgKBrxFUzv"
      },
      "execution_count": null,
      "outputs": []
    },
    {
      "cell_type": "code",
      "source": [
        "def detectByPathVideo(path, writer):\n",
        "\n",
        "    video = cv2.VideoCapture(path)\n",
        "    check, frame = video.read()\n",
        "    if check == False:\n",
        "        print('Video Not Found. Please Enter a Valid Path (Full path of Video Should be Provided).')\n",
        "        return\n",
        "\n",
        "    print('Detecting people...')\n",
        "    while video.isOpened():\n",
        "        #check is True if reading was successful \n",
        "        check, frame =  video.read()\n",
        "\n",
        "        if check:\n",
        "            frame = imutils.resize(frame , width=min(800,frame.shape[1]))\n",
        "            frame = detect(frame)\n",
        "            \n",
        "            if writer is not None:\n",
        "                writer.write(frame)\n",
        "            \n",
        "            key = cv2.waitKey(1)\n",
        "            if key== ord('q'):\n",
        "                break\n",
        "        else:\n",
        "            break\n",
        "    video.release()\n",
        "    cv2.destroyAllWindows()"
      ],
      "metadata": {
        "id": "-fis6m53LIVu"
      },
      "execution_count": null,
      "outputs": []
    },
    {
      "cell_type": "code",
      "source": [
        "def humanDetector(args):\n",
        "    writer = None\n",
        "    writer = cv2.VideoWriter('2',cv2.VideoWriter_fourcc(*'MJPG'), 10, (600,600))\n",
        "    detectByPathVideo(args, writer)"
      ],
      "metadata": {
        "id": "Av5eMmBILTDE"
      },
      "execution_count": null,
      "outputs": []
    },
    {
      "cell_type": "code",
      "source": [
        "humanDetector('/content/footage.webm')"
      ],
      "metadata": {
        "colab": {
          "base_uri": "https://localhost:8080/"
        },
        "id": "IGxZJfsUMlai",
        "outputId": "4988a8d1-6bcd-4075-ab97-d1c23b13cffc"
      },
      "execution_count": null,
      "outputs": [
        {
          "output_type": "stream",
          "name": "stdout",
          "text": [
            "Detecting people...\n"
          ]
        }
      ]
    }
  ]
}