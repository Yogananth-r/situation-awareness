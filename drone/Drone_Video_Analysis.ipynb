{
  "nbformat": 4,
  "nbformat_minor": 0,
  "metadata": {
    "colab": {
      "provenance": []
    },
    "kernelspec": {
      "name": "python3",
      "display_name": "Python 3"
    },
    "language_info": {
      "name": "python"
    },
    "accelerator": "GPU",
    "gpuClass": "standard"
  },
  "cells": [
    {
      "cell_type": "code",
      "execution_count": null,
      "metadata": {
        "id": "uJtdnQ5HoJoQ"
      },
      "outputs": [],
      "source": [
        "import cv2"
      ]
    },
    {
      "cell_type": "code",
      "source": [
        "!pip install cvzone\n",
        "import cvzone"
      ],
      "metadata": {
        "colab": {
          "base_uri": "https://localhost:8080/"
        },
        "id": "qqv6EYVtsUHY",
        "outputId": "b71156a6-064a-4221-b3a3-bed4d386d758"
      },
      "execution_count": null,
      "outputs": [
        {
          "output_type": "stream",
          "name": "stdout",
          "text": [
            "Looking in indexes: https://pypi.org/simple, https://us-python.pkg.dev/colab-wheels/public/simple/\n",
            "Collecting cvzone\n",
            "  Downloading cvzone-1.5.6.tar.gz (12 kB)\n",
            "  Preparing metadata (setup.py) ... \u001b[?25l\u001b[?25hdone\n",
            "Requirement already satisfied: opencv-python in /usr/local/lib/python3.9/dist-packages (from cvzone) (4.7.0.72)\n",
            "Requirement already satisfied: numpy in /usr/local/lib/python3.9/dist-packages (from cvzone) (1.22.4)\n",
            "Building wheels for collected packages: cvzone\n",
            "  Building wheel for cvzone (setup.py) ... \u001b[?25l\u001b[?25hdone\n",
            "  Created wheel for cvzone: filename=cvzone-1.5.6-py3-none-any.whl size=18766 sha256=c9063a8569f7d480fc2c4d0ee3f20cf503a144a46d7a1320d7ca0d45d96bb5ee\n",
            "  Stored in directory: /root/.cache/pip/wheels/6f/ec/e5/c576c2f2fa138207498bbbfc8eefb1f0a2efbba7c847742948\n",
            "Successfully built cvzone\n",
            "Installing collected packages: cvzone\n",
            "Successfully installed cvzone-1.5.6\n"
          ]
        }
      ]
    },
    {
      "cell_type": "code",
      "source": [
        "thres=0.6\n",
        "nmsThres=0.2"
      ],
      "metadata": {
        "id": "t20jJkBhL6hj"
      },
      "execution_count": null,
      "outputs": []
    },
    {
      "cell_type": "code",
      "source": [
        "cap=cv2.VideoCapture(0)\n",
        "cap.set(3,640)\n",
        "cap.set(4,480)\n",
        "\n",
        "classs=[]\n",
        "classfile='/content/classsco.names'\n",
        "with open(classfile,'rt') as f:\n",
        "  classs=f.read().split('\\n')\n",
        "\n",
        "print(classs)"
      ],
      "metadata": {
        "colab": {
          "base_uri": "https://localhost:8080/"
        },
        "id": "kiBsG2Oeslqn",
        "outputId": "df8907f3-07b2-4631-87b1-df9dd5d882f9"
      },
      "execution_count": null,
      "outputs": [
        {
          "output_type": "stream",
          "name": "stdout",
          "text": [
            "['person', 'bicycle', 'car', 'motorcycle', 'airplane', 'bus', 'train', 'truck', 'boat', 'traffic light', 'fire hydrant', 'street sign', 'stop sign', 'parking meter', 'bench', 'bird', 'cat', 'dog', 'horse', 'sheep', 'cow', 'elephant', 'bear', 'zebra', 'giraffe', 'hat', 'backpack', 'umbrella', 'shoe', 'eye glasses', 'handbag', 'tie', 'suitcase', 'frisbee', 'skis', 'snowboard', 'sports ball', 'kite', 'baseball bat', 'baseball glove', 'skateboard', 'surfboard', 'tennis racket', 'bottle', 'plate', 'wine glass', 'cup', 'fork', 'knife', 'spoon', 'bowl', 'banana', 'apple', 'sandwich', 'orange', 'broccoli', 'carrot', 'hot dog', 'pizza', 'donut', 'cake', 'chair', 'couch', 'potted plant', 'bed', 'mirror', 'dining table', 'window', 'desk', 'toilet', 'door', 'tv', 'laptop', 'mouse', 'remote', 'keyboard', 'cell phone', 'microwave', 'oven', 'toaster', 'sink', 'refrigerator', 'blender', 'book', 'clock', 'vase', 'scissors', 'teddy bear', 'hair drier', 'toothbrush', 'hair brush']\n"
          ]
        }
      ]
    },
    {
      "cell_type": "code",
      "source": [
        "configpath='/content/ssd_mobilenet_v3_large_coco_2020_01_14.pbtxt'\n",
        "weightspath=\"/content/frozen_inference_graph.pb\""
      ],
      "metadata": {
        "id": "DniejrPAJ41V"
      },
      "execution_count": null,
      "outputs": []
    },
    {
      "cell_type": "code",
      "source": [
        "net = cv2.dnn_DetectionModel(weightspath,configpath)\n",
        "net.setInputSize(3230,320)\n",
        "net.setInputScale(1.0/127.5)\n",
        "net.setInputMean((127.5,127.5,127.5))\n",
        "net.setInputSwapRB(True)"
      ],
      "metadata": {
        "colab": {
          "base_uri": "https://localhost:8080/"
        },
        "id": "QucKCm4YLILU",
        "outputId": "f0708afb-aeb3-4888-be69-6917714dc5bb"
      },
      "execution_count": null,
      "outputs": [
        {
          "output_type": "execute_result",
          "data": {
            "text/plain": [
              "< cv2.dnn.Model 0x7fa99f9b5fb0>"
            ]
          },
          "metadata": {},
          "execution_count": 11
        }
      ]
    },
    {
      "cell_type": "code",
      "source": [
        "#while True:\n",
        "for i in range(1):\n",
        "  sucess, img= cap.read()\n",
        "  #img=cv2.imread(\"/content/img.jpg\")\n",
        "  classIds,confs,bbox=net.detect(img,confThreshold=thres,nmsThreshold=nmsThres)\n",
        "  try:\n",
        "    for classId, conf, box in zip(classIds.flatten(),confs.flatten(),bbox):\n",
        "      cvzone.cornerRect(img,box,rt=1)\n",
        "      print(classId,conf,bbox)\n",
        "      cv2.putText(img,f'{classs[ClassId-1].upper()}{round(conf*100,2)}',\n",
        "                  (box[0]+10,box[1]+30),cv2.FONT_HERSHEY_COMPLEX_SMALL,\n",
        "                  1,(0,255,0),2)\n",
        "\n",
        "  except:\n",
        "    pass\n",
        "  \n",
        "\n",
        "  #cv2.imshow(\"image\",img)\n",
        "  cv2.waitKey(1)"
      ],
      "metadata": {
        "colab": {
          "base_uri": "https://localhost:8080/"
        },
        "id": "I_qaNCwDH-r4",
        "outputId": "a1083864-b313-4436-912e-f37931dc3207"
      },
      "execution_count": 24,
      "outputs": [
        {
          "output_type": "stream",
          "name": "stdout",
          "text": [
            "65 0.63719916 [[4093  240  423 1756]]\n"
          ]
        }
      ]
    }
  ]
}