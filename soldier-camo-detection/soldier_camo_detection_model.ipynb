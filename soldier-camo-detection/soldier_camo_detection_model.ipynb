{
  "nbformat": 4,
  "nbformat_minor": 0,
  "metadata": {
    "colab": {
      "provenance": []
    },
    "kernelspec": {
      "name": "python3",
      "display_name": "Python 3"
    },
    "language_info": {
      "name": "python"
    },
    "accelerator": "GPU",
    "gpuClass": "standard"
  },
  "cells": [
    {
      "cell_type": "code",
      "execution_count": 1,
      "metadata": {
        "colab": {
          "base_uri": "https://localhost:8080/"
        },
        "id": "a_8bJ2znihll",
        "outputId": "f0d38557-ae0d-4211-e8ee-090246fadfab"
      },
      "outputs": [
        {
          "output_type": "stream",
          "name": "stdout",
          "text": [
            "Looking in indexes: https://pypi.org/simple, https://us-python.pkg.dev/colab-wheels/public/simple/\n",
            "Requirement already satisfied: kaggle in /usr/local/lib/python3.9/dist-packages (1.5.13)\n",
            "Requirement already satisfied: six>=1.10 in /usr/local/lib/python3.9/dist-packages (from kaggle) (1.16.0)\n",
            "Requirement already satisfied: requests in /usr/local/lib/python3.9/dist-packages (from kaggle) (2.27.1)\n",
            "Requirement already satisfied: certifi in /usr/local/lib/python3.9/dist-packages (from kaggle) (2022.12.7)\n",
            "Requirement already satisfied: tqdm in /usr/local/lib/python3.9/dist-packages (from kaggle) (4.65.0)\n",
            "Requirement already satisfied: python-slugify in /usr/local/lib/python3.9/dist-packages (from kaggle) (8.0.1)\n",
            "Requirement already satisfied: urllib3 in /usr/local/lib/python3.9/dist-packages (from kaggle) (1.26.15)\n",
            "Requirement already satisfied: python-dateutil in /usr/local/lib/python3.9/dist-packages (from kaggle) (2.8.2)\n",
            "Requirement already satisfied: text-unidecode>=1.3 in /usr/local/lib/python3.9/dist-packages (from python-slugify->kaggle) (1.3)\n",
            "Requirement already satisfied: idna<4,>=2.5 in /usr/local/lib/python3.9/dist-packages (from requests->kaggle) (3.4)\n",
            "Requirement already satisfied: charset-normalizer~=2.0.0 in /usr/local/lib/python3.9/dist-packages (from requests->kaggle) (2.0.12)\n"
          ]
        }
      ],
      "source": [
        "!pip install kaggle"
      ]
    },
    {
      "cell_type": "code",
      "source": [
        "! mkdir ~/.kaggle\n",
        "! cp kaggle.json ~/.kaggle/\n",
        "! chmod 600 ~/.kaggle/kaggle.json"
      ],
      "metadata": {
        "id": "1mclHX7LkF4l",
        "colab": {
          "base_uri": "https://localhost:8080/"
        },
        "outputId": "d1a1cb44-3f39-4d90-c332-ca0a6460de20"
      },
      "execution_count": 3,
      "outputs": [
        {
          "output_type": "stream",
          "name": "stdout",
          "text": [
            "mkdir: cannot create directory ‘/root/.kaggle’: File exists\n"
          ]
        }
      ]
    },
    {
      "cell_type": "code",
      "source": [
        "! kaggle datasets download imneonizer/normal-vs-camouflage-clothes"
      ],
      "metadata": {
        "colab": {
          "base_uri": "https://localhost:8080/"
        },
        "id": "lpE42aNLkOMm",
        "outputId": "0a6f2a59-d1f6-4f57-dff8-4dca04b3cfc5"
      },
      "execution_count": 4,
      "outputs": [
        {
          "output_type": "stream",
          "name": "stdout",
          "text": [
            "Downloading normal-vs-camouflage-clothes.zip to /content\n",
            " 99% 1.80G/1.82G [00:10<00:00, 261MB/s]\n",
            "100% 1.82G/1.82G [00:10<00:00, 185MB/s]\n"
          ]
        }
      ]
    },
    {
      "cell_type": "code",
      "source": [
        "from zipfile import ZipFile\n",
        "from tqdm import tqdm\n",
        "\n",
        "with ZipFile('/content/normal-vs-camouflage-clothes.zip', 'r') as zip_file:\n",
        "    file_list = zip_file.namelist()\n",
        "    for file_name in tqdm(file_list):\n",
        "        zip_file.extract(file_name, '/content')\n"
      ],
      "metadata": {
        "colab": {
          "base_uri": "https://localhost:8080/"
        },
        "id": "IBfbFqvjlmCS",
        "outputId": "a29355a5-e5c5-4120-dba6-f0da8c383cd7"
      },
      "execution_count": 6,
      "outputs": [
        {
          "output_type": "stream",
          "name": "stderr",
          "text": [
            "100%|██████████| 15898/15898 [00:16<00:00, 945.23it/s] \n"
          ]
        }
      ]
    },
    {
      "cell_type": "code",
      "source": [
        "import os\n",
        "ORIG_INPUT_DATASET = \"/content/8k_normal_vs_camouflage_clothes_images\"\n",
        "BASE_PATH = \"camo_not_camo\"\n",
        "\n",
        "TRAIN_PATH = os.path.sep.join([BASE_PATH, \"training\"])\n",
        "VAL_PATH = os.path.sep.join([BASE_PATH, \"validation\"])\n",
        "TEST_PATH = os.path.sep.join([BASE_PATH, \"testing\"])"
      ],
      "metadata": {
        "id": "kglyFh6Woiq6"
      },
      "execution_count": 10,
      "outputs": []
    },
    {
      "cell_type": "code",
      "source": [
        "TRAIN_SPLIT = 0.75\n",
        "VAL_SPLIT = 0.1\n",
        "CLASSES = [\"camouflage_clothes\", \"normal_clothes\"]"
      ],
      "metadata": {
        "id": "1wV0lm6Um1uL"
      },
      "execution_count": 7,
      "outputs": []
    },
    {
      "cell_type": "code",
      "source": [
        "INIT_LR = 1e-4\n",
        "BS = 32\n",
        "NUM_EPOCHS = 20\n",
        "MODEL_PATH = \"military_camo_detector.model\""
      ],
      "metadata": {
        "id": "VScYbPMUnSJ0"
      },
      "execution_count": 8,
      "outputs": []
    },
    {
      "cell_type": "code",
      "source": [
        "from imutils import paths\n",
        "import random\n",
        "import shutil"
      ],
      "metadata": {
        "id": "ISBPDVkNncNv"
      },
      "execution_count": 9,
      "outputs": []
    },
    {
      "cell_type": "code",
      "source": [
        "imagePaths = list(paths.list_images(ORIG_INPUT_DATASET))\n",
        "random.seed(42)\n",
        "random.shuffle(imagePaths)\n",
        "# computing training and testing split\n",
        "i = int(len(imagePaths) * TRAIN_SPLIT)\n",
        "trainPaths = imagePaths[:i]\n",
        "testPaths = imagePaths[i:]\n",
        "# part of the training data for validation\n",
        "i = int(len(trainPaths) * VAL_SPLIT)\n",
        "valPaths = trainPaths[:i]\n",
        "trainPaths = trainPaths[i:]\n",
        "# defining the datasets\n",
        "datasets = [\n",
        "\t(\"training\", trainPaths, TRAIN_PATH),\n",
        "\t(\"validation\", valPaths, VAL_PATH),\n",
        "\t(\"testing\", testPaths, TEST_PATH)\n",
        "]"
      ],
      "metadata": {
        "id": "GmUs9za2nhC1"
      },
      "execution_count": 11,
      "outputs": []
    },
    {
      "cell_type": "code",
      "source": [
        "os.getcwd() "
      ],
      "metadata": {
        "colab": {
          "base_uri": "https://localhost:8080/",
          "height": 35
        },
        "id": "Ke48CiFopI9g",
        "outputId": "9676b35b-e6b6-4cb1-ccf3-25d153c38a49"
      },
      "execution_count": 13,
      "outputs": [
        {
          "output_type": "execute_result",
          "data": {
            "text/plain": [
              "'/content'"
            ],
            "application/vnd.google.colaboratory.intrinsic+json": {
              "type": "string"
            }
          },
          "metadata": {},
          "execution_count": 13
        }
      ]
    },
    {
      "cell_type": "code",
      "source": [
        "for (dType, imagePaths, baseOutput) in datasets:\n",
        "\tprint(\"[INFO] building '{}' split\".format(dType))\n",
        "\tif not os.path.exists(baseOutput):\n",
        "\t\tprint(\"[INFO] 'creating {}' directory\".format(baseOutput))\n",
        "\t\tos.makedirs(baseOutput)\n",
        "\tfor inputPath in imagePaths:\n",
        "\t\tfilename = inputPath.split(os.path.sep)[-1]\n",
        "\t\tlabel = inputPath.split(os.path.sep)[-2]\n",
        "\t\tlabelPath = os.path.sep.join([baseOutput, label])\n",
        "\t\tif not os.path.exists(labelPath):\n",
        "\t\t\tprint(\"[INFO] 'creating {}' directory\".format(labelPath))\n",
        "\t\t\tos.makedirs(labelPath)\n",
        "\t\tp = os.path.sep.join([labelPath, filename])\n",
        "\t\tshutil.copy2(inputPath, p)"
      ],
      "metadata": {
        "colab": {
          "base_uri": "https://localhost:8080/"
        },
        "id": "JfMGZTHfpYwo",
        "outputId": "e17d62b6-2c73-48bb-9803-bd6eeb94177a"
      },
      "execution_count": 16,
      "outputs": [
        {
          "output_type": "stream",
          "name": "stdout",
          "text": [
            "[INFO] building 'training' split\n",
            "[INFO] 'creating camo_not_camo/training' directory\n",
            "[INFO] 'creating camo_not_camo/training/camouflage_clothes' directory\n",
            "[INFO] 'creating camo_not_camo/training/normal_clothes' directory\n",
            "[INFO] building 'validation' split\n",
            "[INFO] 'creating camo_not_camo/validation' directory\n",
            "[INFO] 'creating camo_not_camo/validation/normal_clothes' directory\n",
            "[INFO] 'creating camo_not_camo/validation/camouflage_clothes' directory\n",
            "[INFO] building 'testing' split\n",
            "[INFO] 'creating camo_not_camo/testing' directory\n",
            "[INFO] 'creating camo_not_camo/testing/camouflage_clothes' directory\n",
            "[INFO] 'creating camo_not_camo/testing/normal_clothes' directory\n"
          ]
        }
      ]
    },
    {
      "cell_type": "code",
      "source": [
        "import matplotlib\n",
        "matplotlib.use(\"Agg\")\n",
        "from tensorflow.keras.preprocessing.image import ImageDataGenerator\n",
        "from tensorflow.keras.layers import AveragePooling2D\n",
        "from tensorflow.keras.layers import Dropout\n",
        "from tensorflow.keras.layers import Flatten\n",
        "from tensorflow.keras.layers import Dense\n",
        "from tensorflow.keras.layers import Input\n",
        "from tensorflow.keras.models import Model\n",
        "from tensorflow.keras.optimizers import Adam\n",
        "from tensorflow.keras.applications import ResNet50\n",
        "from sklearn.metrics import classification_report\n",
        "from imutils import paths\n",
        "import matplotlib.pyplot as plt\n",
        "import numpy as np\n",
        "import argparse"
      ],
      "metadata": {
        "id": "e1Z_gLiisR1z"
      },
      "execution_count": 18,
      "outputs": []
    },
    {
      "cell_type": "code",
      "source": [
        "\"\"\"ap = argparse.ArgumentParser()\n",
        "ap.add_argument(\"-p\", \"--plot\", type=str, default=\"plot.png\", help=\"path to output loss/accuracy plot\")\n",
        "args = vars(ap.parse_args())\"\"\"\n",
        "totalTrain = len(list(paths.list_images(TRAIN_PATH)))\n",
        "totalVal = len(list(paths.list_images(VAL_PATH)))\n",
        "totalTest = len(list(paths.list_images(TEST_PATH)))\n",
        "print(\"train \",totalTrain, \" val \",totalVal,\" test \",totalTest)"
      ],
      "metadata": {
        "colab": {
          "base_uri": "https://localhost:8080/"
        },
        "id": "Vqmhppsaslnw",
        "outputId": "142ed940-91d0-4bc3-f7a5-0c47d1399d98"
      },
      "execution_count": 24,
      "outputs": [
        {
          "output_type": "stream",
          "name": "stdout",
          "text": [
            "train  10731  val  1192  test  3975\n"
          ]
        }
      ]
    },
    {
      "cell_type": "code",
      "source": [
        "trainAug = ImageDataGenerator(\n",
        "\trotation_range=25,\n",
        "\tzoom_range=0.1,\n",
        "\twidth_shift_range=0.1,\n",
        "\theight_shift_range=0.1,\n",
        "\tshear_range=0.2,\n",
        "\thorizontal_flip=True,\n",
        "\tfill_mode=\"nearest\")\n",
        "valAug = ImageDataGenerator()\n",
        "mean = np.array([123.68, 116.779, 103.939], dtype=\"float32\")\n",
        "trainAug.mean = mean\n",
        "valAug.mean = mean"
      ],
      "metadata": {
        "id": "M-fXO-j0txTp"
      },
      "execution_count": 25,
      "outputs": []
    },
    {
      "cell_type": "code",
      "source": [
        "# training generator\n",
        "trainGen = trainAug.flow_from_directory(\n",
        "\tTRAIN_PATH,\n",
        "\tclass_mode=\"categorical\",\n",
        "\ttarget_size=(224, 224),\n",
        "\tcolor_mode=\"rgb\",\n",
        "\tshuffle=True,\n",
        "\tbatch_size=BS)\n",
        "# validation generator\n",
        "valGen = valAug.flow_from_directory(\n",
        "\tVAL_PATH,\n",
        "\tclass_mode=\"categorical\",\n",
        "\ttarget_size=(224, 224),\n",
        "\tcolor_mode=\"rgb\",\n",
        "\tshuffle=False,\n",
        "\tbatch_size=BS)\n",
        "# testing generator\n",
        "testGen = valAug.flow_from_directory(\n",
        "\tTEST_PATH,\n",
        "\tclass_mode=\"categorical\",\n",
        "\ttarget_size=(224, 224),\n",
        "\tcolor_mode=\"rgb\",\n",
        "\tshuffle=False,\n",
        "\tbatch_size=BS)"
      ],
      "metadata": {
        "colab": {
          "base_uri": "https://localhost:8080/"
        },
        "id": "Kl6hjbLxt8FL",
        "outputId": "6d8b85e7-e8af-48de-ac91-7bfccd366569"
      },
      "execution_count": 28,
      "outputs": [
        {
          "output_type": "stream",
          "name": "stdout",
          "text": [
            "Found 10731 images belonging to 2 classes.\n",
            "Found 1192 images belonging to 2 classes.\n",
            "Found 3975 images belonging to 2 classes.\n"
          ]
        }
      ]
    },
    {
      "cell_type": "code",
      "source": [
        "print(\"[INFO] preparing model...\")\n",
        "baseModel = ResNet50(weights=\"imagenet\", include_top=False,\n",
        "\tinput_tensor=Input(shape=(224, 224, 3)))\n",
        "\n",
        "headModel = baseModel.output\n",
        "headModel = AveragePooling2D(pool_size=(7, 7))(headModel)\n",
        "headModel = Flatten(name=\"flatten\")(headModel)\n",
        "headModel = Dense(256, activation=\"relu\")(headModel)\n",
        "headModel = Dropout(0.5)(headModel)\n",
        "headModel = Dense(len(CLASSES), activation=\"softmax\")(headModel)\n",
        "\n",
        "model = Model(inputs=baseModel.input, outputs=headModel)\n",
        "for layer in baseModel.layers:\n",
        "\tlayer.trainable = False"
      ],
      "metadata": {
        "colab": {
          "base_uri": "https://localhost:8080/"
        },
        "id": "RdzeqXrAuzfp",
        "outputId": "7b49a402-5bff-4389-b8ea-9fc6c46279a6"
      },
      "execution_count": 29,
      "outputs": [
        {
          "output_type": "stream",
          "name": "stdout",
          "text": [
            "[INFO] preparing model...\n",
            "Downloading data from https://storage.googleapis.com/tensorflow/keras-applications/resnet/resnet50_weights_tf_dim_ordering_tf_kernels_notop.h5\n",
            "94765736/94765736 [==============================] - 1s 0us/step\n"
          ]
        }
      ]
    },
    {
      "cell_type": "code",
      "source": [
        "opt = Adam(learning_rate=INIT_LR)\n",
        "model.compile(loss=\"binary_crossentropy\", optimizer=opt,\n",
        "\tmetrics=[\"accuracy\"])\n",
        "print(\"[INFO] training model...\")\n",
        "H = model.fit(\n",
        "\ttrainGen,\n",
        "\tsteps_per_epoch=totalTrain // BS,\n",
        "\tvalidation_data=valGen,\n",
        "\tvalidation_steps=totalVal // BS,\n",
        "\tepochs=NUM_EPOCHS)"
      ],
      "metadata": {
        "colab": {
          "base_uri": "https://localhost:8080/"
        },
        "id": "ivLO28pNu-gf",
        "outputId": "41f021ac-a722-4464-c010-8dcbd65e0a1b"
      },
      "execution_count": null,
      "outputs": [
        {
          "output_type": "stream",
          "name": "stdout",
          "text": [
            "[INFO] training model...\n",
            "Epoch 1/20\n",
            "335/335 [==============================] - 330s 973ms/step - loss: 0.1943 - accuracy: 0.9298 - val_loss: 0.0861 - val_accuracy: 0.9764\n",
            "Epoch 2/20\n",
            "335/335 [==============================] - 321s 957ms/step - loss: 0.0914 - accuracy: 0.9707 - val_loss: 0.0689 - val_accuracy: 0.9755\n",
            "Epoch 3/20\n",
            "335/335 [==============================] - 319s 953ms/step - loss: 0.0697 - accuracy: 0.9783 - val_loss: 0.0654 - val_accuracy: 0.9780\n",
            "Epoch 4/20\n",
            "335/335 [==============================] - 319s 953ms/step - loss: 0.0627 - accuracy: 0.9794 - val_loss: 0.0803 - val_accuracy: 0.9679\n",
            "Epoch 5/20\n",
            "335/335 [==============================] - 321s 958ms/step - loss: 0.0540 - accuracy: 0.9817 - val_loss: 0.0596 - val_accuracy: 0.9797\n",
            "Epoch 6/20\n",
            "335/335 [==============================] - 319s 952ms/step - loss: 0.0480 - accuracy: 0.9842 - val_loss: 0.0590 - val_accuracy: 0.9814\n",
            "Epoch 7/20\n",
            "335/335 [==============================] - 319s 953ms/step - loss: 0.0511 - accuracy: 0.9825 - val_loss: 0.0607 - val_accuracy: 0.9797\n",
            "Epoch 8/20\n",
            "335/335 [==============================] - 302s 902ms/step - loss: 0.0442 - accuracy: 0.9850 - val_loss: 0.0583 - val_accuracy: 0.9806\n",
            "Epoch 9/20\n",
            "335/335 [==============================] - 322s 962ms/step - loss: 0.0404 - accuracy: 0.9854 - val_loss: 0.0683 - val_accuracy: 0.9772\n",
            "Epoch 10/20\n",
            "335/335 [==============================] - 323s 965ms/step - loss: 0.0370 - accuracy: 0.9881 - val_loss: 0.0600 - val_accuracy: 0.9797\n",
            "Epoch 11/20\n",
            "335/335 [==============================] - 325s 969ms/step - loss: 0.0385 - accuracy: 0.9884 - val_loss: 0.0562 - val_accuracy: 0.9823\n",
            "Epoch 12/20\n",
            "335/335 [==============================] - 325s 969ms/step - loss: 0.0348 - accuracy: 0.9885 - val_loss: 0.0599 - val_accuracy: 0.9789\n",
            "Epoch 13/20\n",
            "335/335 [==============================] - 325s 969ms/step - loss: 0.0314 - accuracy: 0.9886 - val_loss: 0.0597 - val_accuracy: 0.9806\n",
            "Epoch 14/20\n",
            "335/335 [==============================] - 323s 964ms/step - loss: 0.0285 - accuracy: 0.9907 - val_loss: 0.0587 - val_accuracy: 0.9831\n",
            "Epoch 15/20\n",
            "335/335 [==============================] - 323s 965ms/step - loss: 0.0280 - accuracy: 0.9905 - val_loss: 0.0628 - val_accuracy: 0.9789\n",
            "Epoch 16/20\n",
            "335/335 [==============================] - 306s 912ms/step - loss: 0.0280 - accuracy: 0.9904 - val_loss: 0.0565 - val_accuracy: 0.9840\n",
            "Epoch 17/20\n",
            "335/335 [==============================] - 324s 967ms/step - loss: 0.0278 - accuracy: 0.9907 - val_loss: 0.0543 - val_accuracy: 0.9840\n",
            "Epoch 18/20\n",
            "335/335 [==============================] - 322s 960ms/step - loss: 0.0263 - accuracy: 0.9914 - val_loss: 0.0566 - val_accuracy: 0.9823\n",
            "Epoch 19/20\n",
            "101/335 [========>.....................] - ETA: 3:16 - loss: 0.0251 - accuracy: 0.9919"
          ]
        }
      ]
    },
    {
      "cell_type": "code",
      "source": [
        "print(\"[INFO] evaluating network...\")\n",
        "testGen.reset()\n",
        "predIdxs = model.predict_generator(testGen,\n",
        "\tsteps=(totalTest // config.BS) + 1)\n",
        "predIdxs = np.argmax(predIdxs, axis=1)\n",
        "\n",
        "print(classification_report(testGen.classes, predIdxs, target_names=testGen.class_indices.keys()))\n",
        "\n",
        "print(\"[INFO] saving model...\")\n",
        "model.save(MODEL_PATH, save_format=\"h5\")"
      ],
      "metadata": {
        "id": "m1lZBuSLk7o3"
      },
      "execution_count": null,
      "outputs": []
    },
    {
      "cell_type": "code",
      "source": [
        "N = NUM_EPOCHS\n",
        "plt.style.use(\"ggplot\")\n",
        "plt.figure()\n",
        "plt.plot(np.arange(0, N), H.history[\"loss\"], label=\"train_loss\")\n",
        "plt.plot(np.arange(0, N), H.history[\"val_loss\"], label=\"val_loss\")\n",
        "plt.plot(np.arange(0, N), H.history[\"accuracy\"], label=\"train_acc\")\n",
        "plt.plot(np.arange(0, N), H.history[\"val_accuracy\"], label=\"val_acc\")\n",
        "plt.title(\"Training Loss and Accuracy on Dataset\")\n",
        "plt.xlabel(\"Epoch #\")\n",
        "plt.ylabel(\"Loss/Accuracy\")\n",
        "plt.legend(loc=\"lower left\")\n",
        "plt.savefig(args[\"plot\"])"
      ],
      "metadata": {
        "id": "-601rNUtlfUt"
      },
      "execution_count": null,
      "outputs": []
    }
  ]
}